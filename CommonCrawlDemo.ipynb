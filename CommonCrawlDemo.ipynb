{
 "metadata": {
  "name": "",
  "signature": "sha256:996d5495d08edf42a8c2d62bd68524aeee9a686e9e06b51fc1520eefea384da8"
 },
 "nbformat": 3,
 "nbformat_minor": 0,
 "worksheets": [
  {
   "cells": [
    {
     "cell_type": "heading",
     "level": 1,
     "metadata": {},
     "source": [
      "Common Crawl demo"
     ]
    },
    {
     "cell_type": "heading",
     "level": 6,
     "metadata": {},
     "source": [
      "To run this demo you must install and configure boto library. Ensure that boto has access to your AWS credentials."
     ]
    },
    {
     "cell_type": "code",
     "collapsed": false,
     "input": [
      "from cclib import commoncrawl"
     ],
     "language": "python",
     "metadata": {},
     "outputs": [],
     "prompt_number": 1
    },
    {
     "cell_type": "heading",
     "level": 3,
     "metadata": {},
     "source": [
      "Listing Crawls & Crawl Identifiers"
     ]
    },
    {
     "cell_type": "markdown",
     "metadata": {},
     "source": [
      "Common Crawl project crawls the web every few months. Following is a list of Crawls which can be currently retrived using the library. Note that craws before 2013 used Hadoop Sequence file format instead of the current WARC format and cannot be retrived using this library"
     ]
    },
    {
     "cell_type": "code",
     "collapsed": false,
     "input": [
      "print 'Crawl ID'\n",
      "print '\\n'.join(commoncrawl.CommonCrawl.crawl_id_list)"
     ],
     "language": "python",
     "metadata": {},
     "outputs": [
      {
       "output_type": "stream",
       "stream": "stdout",
       "text": [
        "Crawl ID\n",
        "2013_1\n",
        "2013_2\n",
        "2014_1\n",
        "ALL\n"
       ]
      }
     ],
     "prompt_number": 2
    },
    {
     "cell_type": "markdown",
     "metadata": {},
     "source": [
      "The 'ALL' identifiers contains files from all crawls."
     ]
    },
    {
     "cell_type": "code",
     "collapsed": false,
     "input": [
      "CRAWLS = { crawl_id : commoncrawl.CommonCrawl(crawl_id) for crawl_id in commoncrawl.CommonCrawl.crawl_id_list }"
     ],
     "language": "python",
     "metadata": {},
     "outputs": [],
     "prompt_number": 3
    },
    {
     "cell_type": "heading",
     "level": 3,
     "metadata": {},
     "source": [
      "Getting list of files in each crawl"
     ]
    },
    {
     "cell_type": "code",
     "collapsed": false,
     "input": [
      "print '\\t'.join(['ID','WARC','WET','WAT','text(only first crawl in 2013)'])\n",
      "for crawlid, crawl in CRAWLS.iteritems():\n",
      "    print '\\t'.join([crawlid,str(len(crawl.warc)),str(len(crawl.wet)),str(len(crawl.wat)),str(len(crawl.text))])"
     ],
     "language": "python",
     "metadata": {},
     "outputs": [
      {
       "output_type": "stream",
       "stream": "stdout",
       "text": [
        "ID\tWARC\tWET\tWAT\ttext(only first crawl in 2013)\n",
        "ALL\t139200\t132462\t132462\t31600\n",
        "2014_1\t55700\t55699\t55699\t0\n",
        "2013_1\t31600\t31568\t31568\t31600\n",
        "2013_2\t51900\t45195\t45195\t0\n"
       ]
      }
     ],
     "prompt_number": 4
    },
    {
     "cell_type": "heading",
     "level": 3,
     "metadata": {},
     "source": [
      "Accessing Common Crawl files"
     ]
    },
    {
     "cell_type": "markdown",
     "metadata": {},
     "source": [
      "Randomly choosing one WAT file from the second crawl in 2013 and printing first 25 lines from it."
     ]
    },
    {
     "cell_type": "code",
     "collapsed": false,
     "input": [
      "import random\n",
      "crawl_id = '2013_2'\n",
      "example_wat_filename = random.choice(CRAWLS[crawl_id].wat)\n",
      "count = 25\n",
      "example_wat_fileobject = CRAWLS[crawl_id].get_file(example_wat_filename,headers = {'Range': 'bytes=0-1000000'})\n",
      "for line in example_wat_fileobject:\n",
      "    if line.strip():\n",
      "        print line[:200]\n",
      "        count -=1\n",
      "        if count == 0:\n",
      "            break\n"
     ],
     "language": "python",
     "metadata": {},
     "outputs": [
      {
       "output_type": "stream",
       "stream": "stdout",
       "text": [
        "WARC/1.0\r\n",
        "\n",
        "WARC-Type: warcinfo\r\n",
        "\n",
        "WARC-Date: 2014-01-03T16:33:26Z\r\n",
        "\n",
        "WARC-Filename: CC-MAIN-20131204131729-00009-ip-10-33-133-15.ec2.internal.warc.gz\r\n",
        "\n",
        "WARC-Record-ID: <urn:uuid:798079d1-6da6-438d-a9b8-81c04ecdbde1>\r\n",
        "\n",
        "Content-Type: application/warc-fields\r\n",
        "\n",
        "Content-Length: 108\r\n",
        "\n",
        "Software-Info: ia-web-commons.1.0-SNAPSHOT-20131126084621\r\n",
        "\n",
        "Extracted-Date: Fri, 03 Jan 2014 16:33:26 GMT\r\n",
        "\n",
        "WARC/1.0\r\n",
        "\n",
        "WARC-Type: metadata\r\n",
        "\n",
        "WARC-Target-URI: CC-MAIN-20131204131729-00009-ip-10-33-133-15.ec2.internal.warc.gz\r\n",
        "\n",
        "WARC-Date: 2014-01-03T03:15:49Z\r\n",
        "\n",
        "WARC-Record-ID: <urn:uuid:181d0e83-0bd7-4612-b756-6889da2de95d>\r\n",
        "\n",
        "WARC-Refers-To: <urn:uuid:240523d0-e28b-49f3-b8ef-41486c43f1b0>\r\n",
        "\n",
        "Content-Type: application/json\r\n",
        "\n",
        "Content-Length: 1178\r\n",
        "\n",
        "{\"Envelope\":{\"Format\":\"WARC\",\"WARC-Header-Length\":\"273\",\"Block-Digest\":\"sha1:N75PKRENNGRVMMX3SR6KGP7B6PS77UVE\",\"Actual-Content-Length\":\"371\",\"WARC-Header-Metadata\":{\"WARC-Type\":\"warcinfo\",\"WARC-Filena\n",
        "WARC/1.0\r\n",
        "\n",
        "WARC-Type: metadata\r\n",
        "\n",
        "WARC-Target-URI: http://0.r.msn.com/?ld=7vimWAaTK0AuSOFhrvY0MNHzVUCUw3QNxD7eWCsk69hB1deHAdRud3BHjE-ZOzkPtCqya6YgiGLDpG5jjsm-kJ7AqIraDGqFUNbZ0AE_83lpYdMaGH-H5iLBHyUbtUdc_ry35n6w&u=martindoor.com%2F\r\n",
        "\n",
        "WARC-Date: 2013-12-06T03:38:53Z\r\n",
        "\n",
        "WARC-Record-ID: <urn:uuid:1ab6fa4d-09e1-4ec4-89bf-9d190281d61a>\r\n",
        "\n",
        "WARC-Refers-To: <urn:uuid:f425bf00-24ca-486d-ae61-b8d656611ab4>\r\n",
        "\n",
        "Content-Type: application/json\r\n",
        "\n"
       ]
      }
     ],
     "prompt_number": 5
    },
    {
     "cell_type": "heading",
     "level": 3,
     "metadata": {},
     "source": [
      "Example worker function"
     ]
    },
    {
     "cell_type": "markdown",
     "metadata": {},
     "source": [
      "Following is an example of a simple worker function which takes a WAT file and extracts list URLs. Note that this is not part of the library."
     ]
    },
    {
     "cell_type": "code",
     "collapsed": false,
     "input": [
      "from worker import process_file\n",
      "from pprint import pprint\n",
      "data = process_file(example_wat_fileobject,example_wat_filename)"
     ],
     "language": "python",
     "metadata": {},
     "outputs": [
      {
       "output_type": "stream",
       "stream": "stderr",
       "text": [
        "ERROR:root:error while processing file\n",
        "Traceback (most recent call last):\n",
        "  File \"worker.py\", line 49, in process_file\n",
        "    for line in fileobj:\n",
        "  File \"/Library/Frameworks/Python.framework/Versions/2.7/lib/python2.7/gzip.py\", line 450, in readline\n",
        "    c = self.read(readsize)\n",
        "  File \"/Library/Frameworks/Python.framework/Versions/2.7/lib/python2.7/gzip.py\", line 256, in read\n",
        "    self._read(readsize)\n",
        "  File \"/Library/Frameworks/Python.framework/Versions/2.7/lib/python2.7/gzip.py\", line 303, in _read\n",
        "    self._read_eof()\n",
        "  File \"/Library/Frameworks/Python.framework/Versions/2.7/lib/python2.7/gzip.py\", line 342, in _read_eof\n",
        "    hex(self.crc)))\n",
        "IOError: CRC check failed 0x528a462a != 0x3237e3a4L\n"
       ]
      }
     ],
     "prompt_number": 6
    },
    {
     "cell_type": "markdown",
     "metadata": {},
     "source": [
      "Ignore the error above which is produced due to the fact that only first few thousand bytes were downloaded. "
     ]
    },
    {
     "cell_type": "code",
     "collapsed": false,
     "input": [
      "pprint(data)"
     ],
     "language": "python",
     "metadata": {},
     "outputs": [
      {
       "output_type": "stream",
       "stream": "stdout",
       "text": [
        "{'amazon': [],\n",
        " 'counts': [('accounts.nflrush.com', 12),\n",
        "            ('abclocal.go.com', 21),\n",
        "            ('abcvacuumwarehouse.com', 12),\n",
        "            ('abcnews.go.com', 33),\n",
        "            ('247sports.com', 12),\n",
        "            ('500px.com', 15),\n",
        "            ('511.ky.gov', 21)],\n",
        " 'error': True,\n",
        " 'filename': 'common-crawl/crawl-data/CC-MAIN-2013-48/segments/1386163049455/wat/CC-MAIN-20131204131729-00009-ip-10-33-133-15.ec2.internal.warc.wat.gz',\n",
        " 'metdata_lines': 499}\n"
       ]
      }
     ],
     "prompt_number": 7
    },
    {
     "cell_type": "code",
     "collapsed": false,
     "input": [],
     "language": "python",
     "metadata": {},
     "outputs": [],
     "prompt_number": 7
    }
   ],
   "metadata": {}
  }
 ]
}